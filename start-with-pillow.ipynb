{
 "cells": [
  {
   "cell_type": "code",
   "execution_count": 3,
   "metadata": {},
   "outputs": [],
   "source": [
    "from matplotlib import pyplot as plt\n",
    "from PIL import Image\n",
    "import numpy as np\n",
    "%matplotlib inline"
   ]
  },
  {
   "cell_type": "markdown",
   "metadata": {},
   "source": [
    "PIL库中最重要的类就是Image,在模块中也是定义为Image,可以利用此class从磁盘中载入图像文件，处理其他图像，或者创建新的图像文件。"
   ]
  },
  {
   "cell_type": "code",
   "execution_count": 9,
   "metadata": {},
   "outputs": [
    {
     "name": "stdout",
     "output_type": "stream",
     "text": [
      "PNG (480, 700) RGB\n"
     ]
    }
   ],
   "source": [
    "im = Image.open('background.png')\n",
    "print(im.format,im.size,im.mode)#size返回2-tuple，分别为width，heights。mode表示深度，通道数，通道类型。"
   ]
  },
  {
   "cell_type": "markdown",
   "metadata": {},
   "source": [
    "format 属性定义了一副图像的原格式是什么，并不只是扩展名那么简单，如果将backfround后缀改为.jpg，我们来看看"
   ]
  },
  {
   "cell_type": "code",
   "execution_count": 10,
   "metadata": {},
   "outputs": [
    {
     "name": "stdout",
     "output_type": "stream",
     "text": [
      "PNG (480, 700) RGB\n"
     ]
    }
   ],
   "source": [
    "im = Image.open('background.png')\n",
    "print(im.format,im.size,im.mode)  ##format结果还是png"
   ]
  },
  {
   "cell_type": "code",
   "execution_count": 21,
   "metadata": {},
   "outputs": [],
   "source": [
    "#显示图像\n",
    "im.show()  #最好不用，效率低"
   ]
  },
  {
   "cell_type": "markdown",
   "metadata": {},
   "source": [
    "#### 读取和保存图像"
   ]
  },
  {
   "cell_type": "code",
   "execution_count": 14,
   "metadata": {},
   "outputs": [],
   "source": [
    "import os,sys"
   ]
  },
  {
   "cell_type": "code",
   "execution_count": 15,
   "metadata": {},
   "outputs": [],
   "source": [
    "im.save(\"backgroud_save.jpg\")"
   ]
  },
  {
   "cell_type": "code",
   "execution_count": 17,
   "metadata": {},
   "outputs": [
    {
     "name": "stdout",
     "output_type": "stream",
     "text": [
      "JPEG\n"
     ]
    }
   ],
   "source": [
    "im_jpeg = Image.open(\"backgroud_save.jpg\")\n",
    "print(im_jpeg.format)"
   ]
  },
  {
   "cell_type": "markdown",
   "metadata": {},
   "source": [
    "#### 剪切，粘贴，融合图像"
   ]
  },
  {
   "cell_type": "markdown",
   "metadata": {},
   "source": [
    "Image类提供了一系列可以对图像区域进行编辑的操作，crop可以从图像中提取感兴趣区域"
   ]
  },
  {
   "cell_type": "code",
   "execution_count": 25,
   "metadata": {},
   "outputs": [],
   "source": [
    "box = (100,100,400,400) #（left，upper，right，lower）,即左上角和右下角坐标.图像的左上角为原点，此区域大小为(300,300)\n",
    "region = im.crop(box)"
   ]
  },
  {
   "cell_type": "code",
   "execution_count": 26,
   "metadata": {},
   "outputs": [],
   "source": [
    "region = region.transpose(Image.ROTATE_90)\n",
    "im.paste(region,box) #注意，region和box大小必须相等，区域大小换成长方形就不满足了\n",
    "im.show()"
   ]
  },
  {
   "cell_type": "code",
   "execution_count": null,
   "metadata": {},
   "outputs": [],
   "source": []
  }
 ],
 "metadata": {
  "kernelspec": {
   "display_name": "tf",
   "language": "python",
   "name": "tf"
  },
  "language_info": {
   "codemirror_mode": {
    "name": "ipython",
    "version": 3
   },
   "file_extension": ".py",
   "mimetype": "text/x-python",
   "name": "python",
   "nbconvert_exporter": "python",
   "pygments_lexer": "ipython3",
   "version": "3.6.7"
  }
 },
 "nbformat": 4,
 "nbformat_minor": 2
}
